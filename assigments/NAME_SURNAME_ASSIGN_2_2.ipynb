{
 "cells": [
  {
   "cell_type": "markdown",
   "metadata": {},
   "source": [
    "## Assignment 2 - Part 2\n",
    "* Topics: pandas and numpy"
   ]
  },
  {
   "cell_type": "markdown",
   "metadata": {},
   "source": [
    "## Question 6\n",
    "* sort the feature values for each row and replace the indices with the feature names\n",
    "    * so each row will have 4 columns, the first column being the feature name that is the highest value, the second column being the feature name that is the second highest value, etc.\n",
    "* note, watch out how argsort in numpy works.  you will need to reverse the order somehow.  the sorted(reverse = True) functionality might be of help.\n",
    "* make sure to replace the index values with the feature name, as we did above\n",
    "* put the resulting 2-d array into a pandas dataframe and print the first 5 rows.\n",
    "* hint, look at the apply_along_axis() method for numpy arrays"
   ]
  },
  {
   "cell_type": "markdown",
   "metadata": {},
   "source": [
    "## Question 7\n",
    "* apply z-score normalization to each column in the iris data (note you do not need the target/label column)\n",
    "* column wise meaning, treat each column as an array, and find the standard deviations and means of that column\n",
    "* note, you can use zscore from scipy.stats\n",
    "* results should be a pandas dataframe, printing out 5 rows and running the describe() method on the dataframe"
   ]
  },
  {
   "cell_type": "markdown",
   "metadata": {},
   "source": [
    "## Question 8\n",
    "* make a function that takes in a 2d numpy array X, a 1d numpy array Y and the size the training data, test data and valiation datasets.  \n",
    "* return 6 items\n",
    "    * train_x, train_y, test_x, test_y, val_x, val_y\n",
    "* do not use any modules.  this can be solved using bracket notation to subset.  Note // will take care of decimals in doing division. you could also use int() to convert the float to a whole number\n",
    "* make the params for the training, test and val size be decimals, that repsent percentages of the data.  For instance .8, .1, .1 means an 80% training, 10% test and 10% validation split\n",
    "* use an assert to make sure the numbers add to 1\n",
    "* print out the dimensions of all 6 elements, using iris as a test case with an 80-10-10 split"
   ]
  },
  {
   "cell_type": "markdown",
   "metadata": {},
   "source": [
    "## Question 9\n",
    "* using pandas, find the sum of each feature by species type (label)\n",
    "* do the same, but find the min, max and median as well"
   ]
  },
  {
   "cell_type": "markdown",
   "metadata": {},
   "source": [
    "## Question 10\n",
    "* mean center each column of the iris dataframe (excluding the label column of course)\n",
    "* this means, for each column, the mean should be zero.  to accomplish this we can subtract the column mean from each element of the column\n",
    "* note, broadcasting, which if we have say a 150 row and 4 column dataframe, can  take a row vector of size 4 and apply it to each element\n",
    "*  thus, we can answer this questions doing something like df - df_col_means\n",
    "* run the describe() method at the end to show the data has been mean center"
   ]
  },
  {
   "cell_type": "markdown",
   "metadata": {},
   "source": [
    "## Extra questions.. to think and answer..\n",
    "* Explain what the axis mean in regards to a pandas dataframe and numpy array\n",
    "* How would you groupby two columns in pandas?\n",
    "* What functions are used to read in csvs and excel files in pandas"
   ]
  }
 ],
 "metadata": {
  "kernelspec": {
   "display_name": "Python 3",
   "language": "python",
   "name": "python3"
  },
  "language_info": {
   "codemirror_mode": {
    "name": "ipython",
    "version": 3
   },
   "file_extension": ".py",
   "mimetype": "text/x-python",
   "name": "python",
   "nbconvert_exporter": "python",
   "pygments_lexer": "ipython3",
   "version": "3.7.4"
  }
 },
 "nbformat": 4,
 "nbformat_minor": 2
}
