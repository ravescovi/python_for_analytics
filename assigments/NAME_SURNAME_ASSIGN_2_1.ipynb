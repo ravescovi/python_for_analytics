{
 "cells": [
  {
   "cell_type": "markdown",
   "metadata": {},
   "source": [
    "## Assignment 2 - Part 1\n",
    "* Topics: pandas and numpy"
   ]
  },
  {
   "cell_type": "markdown",
   "metadata": {},
   "source": [
    "## Question 1\n",
    "* sklearn has the iris dataset built in\n",
    "* this is what we will be working with\n",
    "* put the iris data into a dataframe where we have 5 columns (the 4 features and the target)\n",
    "* but the target shouldn't be numerical, it should be the actual label (so put setosa not 0 in the target column) "
   ]
  },
  {
   "cell_type": "code",
   "execution_count": 1,
   "metadata": {},
   "outputs": [],
   "source": [
    "from sklearn.datasets import load_iris\n",
    "import pandas as pd\n",
    "import numpy as np\n",
    "\n",
    "iris = load_iris()"
   ]
  },
  {
   "cell_type": "markdown",
   "metadata": {},
   "source": [
    "## Question 2\n",
    "* using the data array from the iris variable (should be a numpy array of size 150x4), for each row and column, find the sum, min and max\n",
    "* print out the results, but for the rows, show only the first 5 elements of the array and display the length (otherwise it will be large arrays since each row has a value)"
   ]
  },
  {
   "cell_type": "markdown",
   "metadata": {},
   "source": [
    "## Question 3\n",
    "* write a function to return the multiplication of two matrices\n",
    "* use some sort of error handling to make sure the dimensions are compatible\n",
    "* use the function to multiply the iris data (don't use the label column) by it's transpose\n",
    "* what are the dimensions of the result\n",
    "* put the sum of each row of the resulting matrix into a vector, printing out the length and first 5 elements.\n",
    "* put the sum of each column of the resulting matrix in a vector and print it out."
   ]
  },
  {
   "cell_type": "markdown",
   "metadata": {},
   "source": [
    "## Question 4\n",
    "* create a subset of the iris dataframe that doesn't have the label column\n",
    "* for each row, find the index of the min and max feature value\n",
    "    * if we have a row with values [10,2,3,4] we want to return 1 for min and 0 for max, as these are the indicies that align to the min and max values\n",
    "* the result should be two arrays of length 150 (one for each row) with the indices of the min and max value"
   ]
  },
  {
   "cell_type": "markdown",
   "metadata": {},
   "source": [
    "## Question 5\n",
    "* Use the above two arrays to make a dataframe with 2 columns, the first being the feature of minimum value and the second the feature name of the maximum value\n",
    "* note, don't have the cell values be the index value of the min/max value, have it be the feature name\n",
    "    * a row should be [min_val = sepal width (cm), max_val = petal length (cm)]\n",
    "* show the distributions for max and min features (how many times is each feature the max and min value for a row)"
   ]
  },
  {
   "cell_type": "markdown",
   "metadata": {},
   "source": [
    "## Extra questions  - To think about.\n",
    "* Describe a situation the functionality from question 4 and 5 could be of use?"
   ]
  },
  {
   "cell_type": "code",
   "execution_count": null,
   "metadata": {},
   "outputs": [],
   "source": []
  }
 ],
 "metadata": {
  "kernelspec": {
   "display_name": "Python 3",
   "language": "python",
   "name": "python3"
  },
  "language_info": {
   "codemirror_mode": {
    "name": "ipython",
    "version": 3
   },
   "file_extension": ".py",
   "mimetype": "text/x-python",
   "name": "python",
   "nbconvert_exporter": "python",
   "pygments_lexer": "ipython3",
   "version": "3.7.4"
  }
 },
 "nbformat": 4,
 "nbformat_minor": 2
}
